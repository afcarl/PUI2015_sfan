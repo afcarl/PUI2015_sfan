{
 "cells": [
  {
   "cell_type": "code",
   "execution_count": 1,
   "metadata": {
    "collapsed": true
   },
   "outputs": [],
   "source": [
    "import pandas as pd\n",
    "import numpy as np\n",
    "import plotly.plotly as py\n",
    "from plotly.graph_objs import *\n",
    "from geopy.geocoders import Nominatim\n",
    "from geopy.distance import vincenty"
   ]
  },
  {
   "cell_type": "code",
   "execution_count": 2,
   "metadata": {
    "collapsed": false
   },
   "outputs": [],
   "source": [
    "df = pd.read_csv('data/enigma-us.states.ca.counties.los-angeles.hcidla.forclosures.2014.csv')\n",
    "df = df.dropna()"
   ]
  },
  {
   "cell_type": "code",
   "execution_count": 3,
   "metadata": {
    "collapsed": false
   },
   "outputs": [],
   "source": [
    "df['property_dist'] = pd.Series()\n",
    "geolocator = Nominatim()\n",
    "location = geolocator.geocode(\"200 N Spring St, Los Angeles\")\n",
    "lach = (location.latitude,location.longitude)\n",
    "for i in df.index:\n",
    "    loc = (df.loc[i,'property_lat'], df.loc[i,'property_long'])\n",
    "    df.loc[i,'property_dist'] = int(vincenty(loc, lach).miles)"
   ]
  },
  {
   "cell_type": "code",
   "execution_count": 4,
   "metadata": {
    "collapsed": true
   },
   "outputs": [],
   "source": [
    "df['registered_month'] = pd.Series()\n",
    "for i in df.index:\n",
    "    df.loc[i,'registered_month'] = df['registered_date'][i].split('-')[0]+'-'+df['registered_date'][i].split('-')[1]"
   ]
  },
  {
   "cell_type": "code",
   "execution_count": 11,
   "metadata": {
    "collapsed": false
   },
   "outputs": [],
   "source": [
    "df_sum = pd.DataFrame(columns=['month','dist','count'])"
   ]
  },
  {
   "cell_type": "code",
   "execution_count": 7,
   "metadata": {
    "collapsed": false
   },
   "outputs": [
    {
     "data": {
      "text/plain": [
       "array(['2014-01', '2014-02', '2014-03', '2014-04', '2014-05', '2014-06',\n",
       "       '2014-07', '2014-08'], dtype=object)"
      ]
     },
     "execution_count": 7,
     "metadata": {},
     "output_type": "execute_result"
    }
   ],
   "source": [
    "months = df['registered_month'].unique()\n",
    "months.sort()\n",
    "months"
   ]
  },
  {
   "cell_type": "code",
   "execution_count": 12,
   "metadata": {
    "collapsed": false
   },
   "outputs": [],
   "source": [
    "counter = 0\n",
    "for m in months:\n",
    "    dists = df[df['registered_month']==m]['property_dist'].unique()\n",
    "    dists.sort()\n",
    "    for d in dists:\n",
    "        df_sum.loc[counter,'month'] = m\n",
    "        df_sum.loc[counter,'dist'] = d\n",
    "        df_sum.loc[counter,'count'] = len(df[(df['registered_month']==m)&(df['property_dist']==d)])\n",
    "        counter += 1"
   ]
  },
  {
   "cell_type": "code",
   "execution_count": 28,
   "metadata": {
    "collapsed": false
   },
   "outputs": [
    {
     "data": {
      "text/html": [
       "<iframe id=\"igraph\" scrolling=\"no\" style=\"border:none;\"seamless=\"seamless\" src=\"https://plot.ly/~fanshi118/79.embed\" height=\"525px\" width=\"100%\"></iframe>"
      ],
      "text/plain": [
       "<plotly.tools.PlotlyDisplay object>"
      ]
     },
     "execution_count": 28,
     "metadata": {},
     "output_type": "execute_result"
    }
   ],
   "source": [
    "data = [\n",
    "    Scatter3d(\n",
    "        x=df_sum['month'].tolist(),\n",
    "        y=df_sum['dist'].tolist(),\n",
    "        z=df_sum['count'].tolist()\n",
    "    )\n",
    "]\n",
    "\n",
    "layout = Layout(\n",
    "    title='Numbers of LA foreclosure housing by time and distance',\n",
    "    scene=Scene(\n",
    "        xaxis=XAxis(title='Reg. month'),\n",
    "        yaxis=YAxis(title='Miles from LA City Hall'),\n",
    "        zaxis=ZAxis(title='Numbers of units')\n",
    "    )\n",
    ")\n",
    "\n",
    "fig = Figure(data=data, layout=layout)\n",
    "\n",
    "py.iplot(fig, filename='foreclosure_plot')"
   ]
  },
  {
   "cell_type": "code",
   "execution_count": null,
   "metadata": {
    "collapsed": true
   },
   "outputs": [],
   "source": []
  }
 ],
 "metadata": {
  "kernelspec": {
   "display_name": "Python 2",
   "language": "python",
   "name": "python2"
  },
  "language_info": {
   "codemirror_mode": {
    "name": "ipython",
    "version": 2
   },
   "file_extension": ".py",
   "mimetype": "text/x-python",
   "name": "python",
   "nbconvert_exporter": "python",
   "pygments_lexer": "ipython2",
   "version": "2.7.10"
  }
 },
 "nbformat": 4,
 "nbformat_minor": 0
}
